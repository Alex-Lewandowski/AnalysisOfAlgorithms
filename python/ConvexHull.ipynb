{
 "cells": [
  {
   "cell_type": "markdown",
   "metadata": {},
   "source": [
    "### Alex Lewandowski\n",
    "### CS411 Fall 2020\n",
    "\n",
    "# The Convex Hull\n",
    "\n",
    "The convex hull of a set of points is the smallest convex polygon enclosing all points. A convex hull algorithm returns the set of points comprising the convex hull.\n",
    "\n",
    "### The Algorithm\n",
    "- If there are < 3 points, there is no convex hull\n",
    "  - return an empty list\n",
    "- Find the lowest, left-most point\n",
    "- Sort the points by the angles of the vectors intersecting themselves and the lowest, left-most point, and the x-axis\n",
    "- make a stack containing the first two points in the sorted list\n",
    "- iterate across the remaining points\n",
    "  - determine the direction of the turn formed by the top 2 points on the stack and the current point\n",
    "    - while a clockwise turn is encountered, pop the top point off the stack\n",
    "  - add the current point to the stack\n",
    "- add the bottom point of the stack to the top of the stack (to complete the hull)\n",
    "- return the stack\n"
   ]
  },
  {
   "cell_type": "code",
   "execution_count": null,
   "metadata": {},
   "outputs": [],
   "source": [
    "import math\n",
    "import numpy as np\n",
    "from typing import List\n",
    "import matplotlib.pyplot as plt"
   ]
  },
  {
   "cell_type": "code",
   "execution_count": null,
   "metadata": {},
   "outputs": [],
   "source": [
    "def get_angle_x_axis(a: tuple, b: tuple) -> float:\n",
    "    \"\"\"Returns angle between line ab and x-axis\"\"\"\n",
    "    return math.atan2(b[1]-a[1], b[0]-a[0])\n",
    "\n",
    "def counterclockwise(a: tuple, b: tuple, c: tuple) -> bool:\n",
    "    \"\"\"Returns True if turn formed from 3 points (a, b, and c) is ccw\"\"\"\n",
    "    return (b[0] - a[0]) * (c[1] - a[1]) > (b[1] - a[1]) * (c[0] - a[0])\n",
    "\n",
    "def convex_hull(pts: List[tuple]) -> List[tuple]:\n",
    "    \"\"\"Given a list of points, returns list of points on convex hull\"\"\"\n",
    "    if len(pts) < 3:\n",
    "        return []\n",
    "    pts.sort(key=lambda x: x[1])\n",
    "    start = pts[0]\n",
    "    pts.sort(key=lambda x:get_angle_x_axis(start, x))\n",
    "    stack = [pts[0], pts[1]]\n",
    "    for i in range(2, len(pts)):\n",
    "        while len(stack) > 2 and not counterclockwise(stack[-2], stack[-1], pts[i]):\n",
    "            stack.pop()\n",
    "        stack.append(pts[i])\n",
    "    stack.append(stack[0])\n",
    "    return stack"
   ]
  },
  {
   "cell_type": "code",
   "execution_count": null,
   "metadata": {},
   "outputs": [],
   "source": [
    "def plot_hull(all_pts: List[tuple], hull_pts: List[tuple]):\n",
    "    \"\"\"Prints the entire point set, the convex hull \n",
    "    point subset, and plots the points and hull\"\"\"\n",
    "    \n",
    "    print(f\"All Points:\\n{all_pts}\\n\\n\")\n",
    "    print(f\"Convex_Hull_Points:\\n{hull_pts}\")\n",
    "    \n",
    "    x = [i[0] for i in all_pts]\n",
    "    y = [i[1] for i in all_pts]\n",
    "    x_hull = [i[0] for i in hull_pts]\n",
    "    y_hull = [i[1] for i in hull_pts]\n",
    "    \n",
    "\n",
    "    fig, ax = plt.subplots()\n",
    "    ax.scatter(x, y)\n",
    "    plt.plot(x_hull, y_hull, 'r')\n",
    "    plt.show()\n",
    "   "
   ]
  },
  {
   "cell_type": "markdown",
   "metadata": {},
   "source": [
    "### This is the set of points I initially used to develop the code"
   ]
  },
  {
   "cell_type": "code",
   "execution_count": null,
   "metadata": {},
   "outputs": [],
   "source": [
    "pts = [(0,0), (0,5), (4,0), (4,5),\n",
    "      (3,1), (3,3), (5,1), (5,3),\n",
    "      (1,2), (1,8), (7,2), (7,8),\n",
    "      (2,6), (2,7), (3,6), (3,7)]\n",
    "\n",
    "ch = convex_hull(pts)\n",
    "plot_hull(pts, ch)"
   ]
  },
  {
   "cell_type": "markdown",
   "metadata": {},
   "source": [
    "## Testing\n",
    "\n",
    "I wrote a matplotlib function to visualize the points and hulls, and then used numpy to generate many random sets of points, with x and y values ranging from 0 to 99. It turned out to be a good choice because I quickly spotted a problem that hadn't caused any issues in the point set I used when writing the code. I had accidentally taken the leftmost, then lowest point as the starting point. It was quick to fix and I might have missed it if I hadn't passed it a breaking set of points. "
   ]
  },
  {
   "cell_type": "code",
   "execution_count": null,
   "metadata": {
    "scrolled": false
   },
   "outputs": [],
   "source": [
    "for i in range(0, 20):\n",
    "    print(i)\n",
    "    pts = np.random.randint(100, size=(100, 2))\n",
    "    pts1 = list(map(tuple, pts))\n",
    "\n",
    "    ch = convex_hull(pts1)\n",
    "    plot_hull(pts1, ch)"
   ]
  }
 ],
 "metadata": {
  "kernelspec": {
   "display_name": "Python 3",
   "language": "python",
   "name": "python3"
  },
  "language_info": {
   "codemirror_mode": {
    "name": "ipython",
    "version": 3
   },
   "file_extension": ".py",
   "mimetype": "text/x-python",
   "name": "python",
   "nbconvert_exporter": "python",
   "pygments_lexer": "ipython3",
   "version": "3.7.8"
  }
 },
 "nbformat": 4,
 "nbformat_minor": 4
}
