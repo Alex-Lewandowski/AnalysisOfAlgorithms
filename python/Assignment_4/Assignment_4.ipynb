{
 "cells": [
  {
   "cell_type": "markdown",
   "metadata": {},
   "source": [
    "## CS411 Homework 4\n",
    "Alex Lewandowski\n",
    "\n",
    "10/31/20"
   ]
  },
  {
   "cell_type": "markdown",
   "metadata": {},
   "source": [
    "## 3.2/8) \n",
    "\n",
    "**Consider the problem of counting, in a given text, the number of substrings that start with an A and end with a B . For example, there are four such substrings in CABAAXBYA .**\n",
    "\n",
    "**a. Design a brute-force algorithm for this problem and determine its efficiency class.**"
   ]
  },
  {
   "cell_type": "markdown",
   "metadata": {},
   "source": [
    "* Initialize count = 0\n",
    "* Iterate over the input string\n",
    "    * If an 'A' is encountered, iterate over the remaining substring\n",
    "        * If a 'B' is encountered, increment the count\n",
    "* return the count"
   ]
  },
  {
   "cell_type": "code",
   "execution_count": null,
   "metadata": {},
   "outputs": [],
   "source": [
    "def count_AB_substrings_brute_1(s: str) -> int:\n",
    "    count = 0\n",
    "    for i, char_1 in enumerate(s):\n",
    "        if char_1 == 'A':\n",
    "            for char_2 in s[i+1:]:\n",
    "                if char_2 == 'B':\n",
    "                    count += 1\n",
    "    return count"
   ]
  },
  {
   "cell_type": "code",
   "execution_count": null,
   "metadata": {
    "scrolled": true
   },
   "outputs": [],
   "source": [
    "text = [\"CABAAXBYA\", \"\", \"AAAAAA\", \"BBBBB\", \"ABABAB\", \"ABABABABABAXXAXXXXXAXXXXXXAXX\"]\n",
    "\n",
    "for word in text:\n",
    "    print(count_AB_substrings_brute_1(word))"
   ]
  },
  {
   "cell_type": "markdown",
   "metadata": {},
   "source": [
    "**b. Design a more efficient algorithm for this problem. [Gin04]**"
   ]
  },
  {
   "cell_type": "markdown",
   "metadata": {},
   "source": [
    "A still brute force yet more efficient solution is to stop checking substrings when it is no longer possible to find the pattern (i.e when there are no more \"B\"s in the remaining substrings). This will save time on strings that look like \"ABABABAXXAXXXXXAXXX...XXXAXX,\" where the substring indicated by the ellipses contains many \"A\"s and no \"B\"s.\n",
    "\n",
    "* Initialize count = 0\n",
    "* Intialize b_count = 0\n",
    "* Iterate over the input string\n",
    "    * If an 'A' is encountered, iterate over the remaining substring\n",
    "        * If a 'B' is encountered, increment count and b_count\n",
    "    * If b_count == 0, return count \n",
    "    * else b_count = 0\n",
    "* return the count"
   ]
  },
  {
   "cell_type": "code",
   "execution_count": null,
   "metadata": {},
   "outputs": [],
   "source": [
    "def count_AB_substrings_brute_2(s: str) -> int:\n",
    "    count = 0\n",
    "    b_count = 0\n",
    "    for i, char_1 in enumerate(s):\n",
    "        if char_1 == 'A':\n",
    "            for char_2 in s[i+1:]:\n",
    "                if char_2 == 'B':\n",
    "                    count += 1\n",
    "                    b_count += 1\n",
    "            if b_count == 0:\n",
    "                return count\n",
    "        b_count = 0\n",
    "    return count"
   ]
  },
  {
   "cell_type": "code",
   "execution_count": null,
   "metadata": {},
   "outputs": [],
   "source": [
    "text = [\"CABAAXBYA\", \"\", \"AAAAAA\", \"BBBBB\", \"ABABAB\", \"ABABABABABAXXAXXXXXAXXXXXXAXX\"]\n",
    "\n",
    "for word in text:\n",
    "    print(count_AB_substrings_brute_2(word))"
   ]
  },
  {
   "cell_type": "markdown",
   "metadata": {},
   "source": [
    "## 4.5/13) \n",
    "**You need to search for a given number in an n × n matrix in which every row and every column is sorted in increasing order. Can you design a O(n) algorithm for this problem? [Laa10]**"
   ]
  },
  {
   "cell_type": "markdown",
   "metadata": {},
   "source": [
    "* Iterate over n\n",
    "    * If matrix\\[i\\]\\[0\\] <= value <= matrix\\[i\\]\\[n-1\\]\n",
    "        * Iterate over row i\n",
    "            * If matrix\\[i\\]\\[j\\] == value\n",
    "                * return \\[i, j\\]\n",
    "* return \\[\\]"
   ]
  },
  {
   "cell_type": "code",
   "execution_count": null,
   "metadata": {},
   "outputs": [],
   "source": [
    "import numpy as np\n",
    "\n",
    "def find_num(matrix : np.ndarray, val : int) -> list:\n",
    "    n = len(matrix)\n",
    "    for i in range(0, n):\n",
    "        if val >= matrix[i][0] and val <= matrix[i][n-1]:\n",
    "            for j, num in enumerate(matrix[i]):\n",
    "                if num == val:\n",
    "                    return [i, j]\n",
    "    return list()"
   ]
  },
  {
   "cell_type": "code",
   "execution_count": null,
   "metadata": {},
   "outputs": [],
   "source": [
    "for i in range(0, 10000):\n",
    "    fail_count = 0\n",
    "    n = np.random.randint(3, 100)\n",
    "    x = np.random.choice(10000, n**2, replace=False)\n",
    "    x.sort()\n",
    "    x = np.reshape(x, (n, n))\n",
    "    row = np.random.randint(n-1)\n",
    "    col = np.random.randint(n-1)\n",
    "    indices = find_num(x, x[row][col])\n",
    "    if x[row][col] != x[indices[0], indices[1]]:\n",
    "        print(\"FAILED\")\n",
    "        print(f'{x}')\n",
    "        print(f\"[row][col]: [{row}][{col}]\")\n",
    "        print(f\"indices: {indices}\")\n",
    "        fail_count += 1\n",
    "if fail_count == 0:\n",
    "    print(\"ALL TESTS PASSED\")\n",
    "else: \n",
    "    print(f\"{fail_count} TESTS FAILED\")"
   ]
  },
  {
   "cell_type": "markdown",
   "metadata": {},
   "source": [
    "## 5.1/5)\n",
    "**Find the order of growth for solutions of the following recurrences.**\n",
    "\n",
    "**a. T (n) = 4T (n/2) + n, T (1) = 1**\n"
   ]
  },
  {
   "cell_type": "markdown",
   "metadata": {},
   "source": [
    "a = 4\n",
    "\n",
    "b = 2\n",
    "\n",
    "d = 1\n",
    "\n",
    "a > b<sup>d</sup>\n",
    "\n",
    "4 > 2<sup>1</sup>\n",
    "\n",
    "T(n)~θn<sup>log<sub>2</sub>4</sup>"
   ]
  },
  {
   "cell_type": "markdown",
   "metadata": {},
   "source": [
    "**b. T (n) = 4T (n/2) + n<sup>2</sup> , T (1) = 1**"
   ]
  },
  {
   "cell_type": "markdown",
   "metadata": {},
   "source": [
    "a = 4\n",
    "\n",
    "b = 2\n",
    "\n",
    "d = 2\n",
    "\n",
    "a = b<sup>d</sup>\n",
    "\n",
    "4 = 2<sup>2</sup>\n",
    "\n",
    "T(n)~θn<sup>2</sup>log<sub>2</sub>n"
   ]
  },
  {
   "cell_type": "markdown",
   "metadata": {},
   "source": [
    "**c. T (n) = 4T (n/2) + n<sup>3</sup> , T (1) = 1**"
   ]
  },
  {
   "cell_type": "markdown",
   "metadata": {},
   "source": [
    "a = 4\n",
    "\n",
    "b = 2\n",
    "\n",
    "d = 3\n",
    "\n",
    "a < b<sup>d</sup>\n",
    "\n",
    "4 < 2<sup>3</sup>\n",
    "\n",
    "T(n)~θn<sup>3</sup>"
   ]
  },
  {
   "cell_type": "markdown",
   "metadata": {},
   "source": [
    "## 5.2/11\n",
    "*Tromino puzzle* **A tromino (more accurately, a right tromino) is an L-shaped\n",
    "tile formed by three 1 × 1 squares. The problem is to cover any 2<sup>n</sup> × 2<sup>n</sup> chessboard with a missing square with trominoes. Trominoes can be oriented in an arbitrary way, but they should cover all the squares of the board except the missing one exactly and with no overlaps. [Gol94]**\n",
    "\n",
    "**Design a divide-and-conquer algorithm for this problem.**"
   ]
  },
  {
   "cell_type": "markdown",
   "metadata": {},
   "source": [
    "A Tromino board can be described with an n value to determine its size, and a set of x, y values representing the location of the missing square.\n",
    "\n",
    "A tromino can be represented with a set of 3 points on the x, y plane.\n",
    "\n",
    "* call the tiling function on the empty tromino board\n",
    "* if the n = 1\n",
    "    * place a tromino in the only possible location\n",
    "    * return\n",
    "* divide the board into quartiles\n",
    "* mark the 4 adjoining corner squares at the center of the current board as missing\n",
    "* determine which quartile contains the passed in missing square\n",
    "* unmark that quartile's corner square and mark the correct missing square\n",
    "* recursively call the tiling function on each quartile\n",
    "* place a tromino in the L-shaped spot created by the 3 quartiles with adjoining missing tiles"
   ]
  },
  {
   "cell_type": "code",
   "execution_count": 1,
   "metadata": {},
   "outputs": [],
   "source": [
    "import numpy as np\n",
    "\n",
    "class Square:\n",
    "    def __init__(self, row: int, col: int):\n",
    "        self.row = row\n",
    "        self.col = col\n",
    "        \n",
    "    def __eq__(self, other): \n",
    "        if not isinstance(other, Square):\n",
    "            return NotImplemented\n",
    "        return self.row == other.row and self.col == other.col\n",
    "\n",
    "class Tromino:\n",
    "    def __init__(self, sq_1=Square(-1, -1), sq_2=Square(-1, -1), sq_3=Square(-1, -1)):\n",
    "        self.sq_1 = sq_1\n",
    "        self.sq_2 = sq_2\n",
    "        self.sq_3 = sq_3\n",
    "    \n",
    "class TrominoBoard:\n",
    "    def __init__(self, n: int, missing_sq: Square):\n",
    "        self.trominos = list()\n",
    "        self.n = n\n",
    "        self.missing_sq = missing_sq\n",
    "        self.used_squares = np.zeros((2**n, 2**n), dtype=bool)\n",
    "        self.used_squares[self.missing_sq.row][self.missing_sq.col] = True\n",
    "        \n",
    "    def id_partial_quartile(self, llc, urc, missing_sq):\n",
    "        q_width = (urc.col - llc.col + 1)//2\n",
    "        quartile = \"\"\n",
    "        if missing_sq.row <= llc.row - q_width:\n",
    "            quartile = \"u\"\n",
    "        else:\n",
    "            quartile = \"l\"\n",
    "        if missing_sq.col <= urc.col - q_width:\n",
    "            quartile = f\"{quartile}lq\"\n",
    "        else:\n",
    "            quartile = f\"{quartile}rq\"\n",
    "        return quartile\n",
    "    \n",
    "    def divide_quartiles(self, llc, urc):\n",
    "        q_width = (urc.col - llc.col + 1)//2\n",
    "        return {\"ulq\": {'llc': Square(llc.row - q_width, llc.col),\n",
    "                        'urc': Square(urc.row, urc.col - q_width), \n",
    "                        \"missing\": Square(llc.row - q_width, urc.col - q_width)},\n",
    "                \"urq\": {'llc': Square(llc.row - q_width, llc.col + q_width), \n",
    "                        'urc': Square(urc.row, urc.col), \n",
    "                        \"missing\": Square(llc.row - q_width, llc.col + q_width)},\n",
    "                \"llq\": {'llc': Square(llc.row, llc.col), \n",
    "                        'urc': Square(urc.row + q_width, urc.col - q_width), \n",
    "                        \"missing\": Square(urc.row + q_width, urc.col - q_width)},\n",
    "                \"lrq\": {'llc': Square(llc.row, llc.col + q_width), \n",
    "                        'urc': Square(urc.row + q_width, urc.col), \n",
    "                        \"missing\": Square(urc.row + q_width, llc.col + q_width)}}\n",
    "    \n",
    "    def place_tromino(self, tromino):\n",
    "        self.used_squares[tromino.sq_1.row][tromino.sq_1.col] = True\n",
    "        self.used_squares[tromino.sq_2.row][tromino.sq_2.col] = True\n",
    "        self.used_squares[tromino.sq_3.row][tromino.sq_3.col] = True\n",
    "        self.trominos.append(tromino)          \n",
    "    \n",
    "    def tile_board(self, llc=None, urc=None, missing_sq=None):\n",
    "        if not (missing_sq or llc or urc):\n",
    "            print(\"Entered with initial empty Tromino board\")\n",
    "            missing_sq = self.missing_sq\n",
    "            llc = Square((2**self.n)-1, 0)\n",
    "            urc = Square(0, (2**self.n)-1)\n",
    "        else:\n",
    "            print(f\"Entered with sub-board having lower-left-corner: ({llc.row}, {llc.col}) and upper-right-corner: ({urc.row}, {urc.col})\")\n",
    "        n = int(np.log2(urc.col - llc.col + 1))\n",
    "        # base case\n",
    "        if n == 1:\n",
    "            squares = [Square(llc.row, llc.col),\n",
    "                      Square(llc.row, urc.col),\n",
    "                      Square(urc.row, llc.col),\n",
    "                      Square(urc.row, urc.col)]\n",
    "            squares.remove(missing_sq)\n",
    "            tromino = Tromino(squares[0], squares[1], squares[2])\n",
    "            self.place_tromino(tromino)\n",
    "            return\n",
    "        quartiles = self.divide_quartiles(llc, urc)\n",
    "        incomplete_quartile = self.id_partial_quartile(llc, urc, missing_sq)\n",
    "        quartiles[incomplete_quartile]['missing'] = missing_sq\n",
    "\n",
    "        # recursive calls\n",
    "        self.tile_board(quartiles['ulq']['llc'], \n",
    "                        quartiles['ulq']['urc'], \n",
    "                        quartiles['ulq']['missing'])\n",
    "        \n",
    "        self.tile_board(quartiles['urq']['llc'], \n",
    "                        quartiles['urq']['urc'], \n",
    "                        quartiles['urq']['missing'])\n",
    "\n",
    "        self.tile_board(quartiles['llq']['llc'], \n",
    "                        quartiles['llq']['urc'], \n",
    "                        quartiles['llq']['missing'])\n",
    "        \n",
    "        self.tile_board(quartiles['lrq']['llc'], \n",
    "                        quartiles['lrq']['urc'], \n",
    "                        quartiles['lrq']['missing'])\n",
    "        \n",
    "        squares = list()\n",
    "        quartiles.pop(incomplete_quartile)\n",
    "        for q in quartiles:\n",
    "            squares.append(quartiles[q]['missing'])\n",
    "        # place remaining tromino\n",
    "        self.place_tromino(Tromino(squares[0], squares[1], squares[2]))\n"
   ]
  },
  {
   "cell_type": "code",
   "execution_count": 2,
   "metadata": {
    "scrolled": false
   },
   "outputs": [
    {
     "name": "stdout",
     "output_type": "stream",
     "text": [
      "\n",
      "Empty Board (True == occupied square):\n",
      "[[False False False False False False False False]\n",
      " [False False False False False False False False]\n",
      " [False False False False False False False False]\n",
      " [False False False False False False False False]\n",
      " [False False False False False False False False]\n",
      " [False False False False False  True False False]\n",
      " [False False False False False False False False]\n",
      " [False False False False False False False False]]\n",
      "\n",
      "Entered with initial empty Tromino board\n",
      "Entered with sub-board having lower-left-corner: (3, 0) and upper-right-corner: (0, 3)\n",
      "Entered with sub-board having lower-left-corner: (1, 0) and upper-right-corner: (0, 1)\n",
      "Entered with sub-board having lower-left-corner: (1, 2) and upper-right-corner: (0, 3)\n",
      "Entered with sub-board having lower-left-corner: (3, 0) and upper-right-corner: (2, 1)\n",
      "Entered with sub-board having lower-left-corner: (3, 2) and upper-right-corner: (2, 3)\n",
      "Entered with sub-board having lower-left-corner: (3, 4) and upper-right-corner: (0, 7)\n",
      "Entered with sub-board having lower-left-corner: (1, 4) and upper-right-corner: (0, 5)\n",
      "Entered with sub-board having lower-left-corner: (1, 6) and upper-right-corner: (0, 7)\n",
      "Entered with sub-board having lower-left-corner: (3, 4) and upper-right-corner: (2, 5)\n",
      "Entered with sub-board having lower-left-corner: (3, 6) and upper-right-corner: (2, 7)\n",
      "Entered with sub-board having lower-left-corner: (7, 0) and upper-right-corner: (4, 3)\n",
      "Entered with sub-board having lower-left-corner: (5, 0) and upper-right-corner: (4, 1)\n",
      "Entered with sub-board having lower-left-corner: (5, 2) and upper-right-corner: (4, 3)\n",
      "Entered with sub-board having lower-left-corner: (7, 0) and upper-right-corner: (6, 1)\n",
      "Entered with sub-board having lower-left-corner: (7, 2) and upper-right-corner: (6, 3)\n",
      "Entered with sub-board having lower-left-corner: (7, 4) and upper-right-corner: (4, 7)\n",
      "Entered with sub-board having lower-left-corner: (5, 4) and upper-right-corner: (4, 5)\n",
      "Entered with sub-board having lower-left-corner: (5, 6) and upper-right-corner: (4, 7)\n",
      "Entered with sub-board having lower-left-corner: (7, 4) and upper-right-corner: (6, 5)\n",
      "Entered with sub-board having lower-left-corner: (7, 6) and upper-right-corner: (6, 7)\n",
      "\n",
      "PLACED TROMINOS:\n",
      " Tromino 0: sq_1: (1, 0), sq_2: (0, 0), sq_3: (0, 1)\n",
      " Tromino 1: sq_1: (1, 3), sq_2: (0, 2), sq_3: (0, 3)\n",
      " Tromino 2: sq_1: (3, 0), sq_2: (3, 1), sq_3: (2, 0)\n",
      " Tromino 3: sq_1: (3, 2), sq_2: (2, 2), sq_3: (2, 3)\n",
      " Tromino 4: sq_1: (1, 1), sq_2: (1, 2), sq_3: (2, 1)\n",
      " Tromino 5: sq_1: (1, 4), sq_2: (0, 4), sq_3: (0, 5)\n",
      " Tromino 6: sq_1: (1, 7), sq_2: (0, 6), sq_3: (0, 7)\n",
      " Tromino 7: sq_1: (3, 5), sq_2: (2, 4), sq_3: (2, 5)\n",
      " Tromino 8: sq_1: (3, 6), sq_2: (3, 7), sq_3: (2, 7)\n",
      " Tromino 9: sq_1: (1, 5), sq_2: (1, 6), sq_3: (2, 6)\n",
      " Tromino 10: sq_1: (5, 0), sq_2: (4, 0), sq_3: (4, 1)\n",
      " Tromino 11: sq_1: (5, 2), sq_2: (5, 3), sq_3: (4, 2)\n",
      " Tromino 12: sq_1: (7, 0), sq_2: (7, 1), sq_3: (6, 0)\n",
      " Tromino 13: sq_1: (7, 2), sq_2: (7, 3), sq_3: (6, 3)\n",
      " Tromino 14: sq_1: (5, 1), sq_2: (6, 1), sq_3: (6, 2)\n",
      " Tromino 15: sq_1: (5, 4), sq_2: (4, 4), sq_3: (4, 5)\n",
      " Tromino 16: sq_1: (5, 7), sq_2: (4, 6), sq_3: (4, 7)\n",
      " Tromino 17: sq_1: (7, 4), sq_2: (7, 5), sq_3: (6, 4)\n",
      " Tromino 18: sq_1: (7, 6), sq_2: (7, 7), sq_3: (6, 7)\n",
      " Tromino 19: sq_1: (5, 6), sq_2: (6, 5), sq_3: (6, 6)\n",
      " Tromino 20: sq_1: (3, 3), sq_2: (3, 4), sq_3: (4, 3)\n",
      "\n",
      "After Tiling (True == occupied square):\n",
      "[[ True  True  True  True  True  True  True  True]\n",
      " [ True  True  True  True  True  True  True  True]\n",
      " [ True  True  True  True  True  True  True  True]\n",
      " [ True  True  True  True  True  True  True  True]\n",
      " [ True  True  True  True  True  True  True  True]\n",
      " [ True  True  True  True  True  True  True  True]\n",
      " [ True  True  True  True  True  True  True  True]\n",
      " [ True  True  True  True  True  True  True  True]]\n"
     ]
    }
   ],
   "source": [
    "missing = Square(5, 5)\n",
    "board = TrominoBoard(3, missing)\n",
    "\n",
    "print(\"\\nEmpty Board (True == occupied square):\")\n",
    "print(f\"{board.used_squares}\\n\")\n",
    "\n",
    "board.tile_board()\n",
    "\n",
    "print(\"\\nPLACED TROMINOS:\")\n",
    "for i, t in enumerate(board.trominos):\n",
    "    print(f\" Tromino {i}: sq_1: ({t.sq_1.row}, {t.sq_1.col}), sq_2: ({t.sq_2.row}, {t.sq_2.col}), sq_3: ({t.sq_3.row}, {t.sq_3.col})\")\n",
    "\n",
    "print(\"\\nAfter Tiling (True == occupied square):\")\n",
    "print(board.used_squares)"
   ]
  },
  {
   "cell_type": "markdown",
   "metadata": {},
   "source": [
    "## 5.3/5.\n",
    "**In each part, give a list of the values in the order they will be visited.**\n",
    "\n",
    "**Traverse the following binary tree**\n",
    "\n",
    "![](5_3_5.png)"
   ]
  },
  {
   "cell_type": "markdown",
   "metadata": {},
   "source": [
    "**a. in preorder.**\n",
    "\n",
    "a, b, d, e, c, f\n",
    "\n",
    "**b. in inorder.**\n",
    "\n",
    "d, b, e, a, c, f\n",
    "\n",
    "**c. in postorder.**\n",
    "\n",
    "d, e, b, f, c, a"
   ]
  },
  {
   "cell_type": "markdown",
   "metadata": {},
   "source": [
    "## 6.1/8.\n",
    "**You have a list of n open intervals (a<sub>1</sub> , b<sub>1</sub> ), (a<sub>2</sub> , b<sub>2</sub> ), . . . , (a<sub>n</sub> , b<sub>n</sub> ) on the real line.\n",
    "(An open interval (a, b) comprises all the points strictly between its endpoints\n",
    "a and b, i.e., (a, b) = {x| a < x < b}.) Find the maximum number of these\n",
    "intervals that have a common point. For example, for the intervals (1, 4),\n",
    "(0, 3), (−1.5, 2), (3.6, 5), this maximum number is 3. Design an algorithm\n",
    "for this problem with a better than quadratic time efficiency.**"
   ]
  },
  {
   "cell_type": "code",
   "execution_count": null,
   "metadata": {},
   "outputs": [],
   "source": []
  },
  {
   "cell_type": "markdown",
   "metadata": {},
   "source": [
    "## 6.6/6.\n",
    "**Consider the problem of finding, for a given positive integer n, the pair of integers whose sum is n and whose product is as large as possible. Design an efficient algorithm for this problem and indicate its efficiency class.**"
   ]
  },
  {
   "cell_type": "code",
   "execution_count": null,
   "metadata": {},
   "outputs": [],
   "source": []
  },
  {
   "cell_type": "markdown",
   "metadata": {},
   "source": [
    "## 7.1/6.\n",
    "**The ancestry problem asks to determine whether a vertex u is an ancestor\n",
    "of vertex v in a given binary (or, more generally, rooted ordered) tree of n\n",
    "vertices. Design a O(n) input-enhancement algorithm that provides sufficient\n",
    "information to solve this problem for any pair of the tree’s vertices in constant\n",
    "time.**"
   ]
  },
  {
   "cell_type": "code",
   "execution_count": null,
   "metadata": {},
   "outputs": [],
   "source": []
  },
  {
   "cell_type": "markdown",
   "metadata": {},
   "source": [
    "## 7.1/7.\n",
    "**In part b, describe an algorithm.**\n",
    "**The following technique, known as virtual initialization, provides a time-\n",
    "efficient way to initialize just some elements of a given array A[0..n − 1] so\n",
    "that for each of its elements, we can say in constant time whether it has been\n",
    "initialized and, if it has been, with which value. This is done by utilizing a\n",
    "variable counter for the number of initialized elements in A and two auxiliary\n",
    "arrays of the same size, say B[0..n − 1] and C[0..n − 1], defined as follows.\n",
    "B[0], . . . , B[counter − 1] contain the indices of the elements of A that were\n",
    "initialized: B[0] contains the index of the element initialized first, B[1] contains\n",
    "the index of the element initialized second, etc. Furthermore, if A[i] was the\n",
    "kth element (0 ≤ k ≤ counter − 1) to be initialized, C[i] contains k.**\n",
    "\n",
    "**a. Sketch the state of arrays A[0..7], B[0..7], and C[0..7] after the three assignments**\n",
    "\n",
    "**A[3] ← x;**\n",
    "\n",
    "**A[7] ← z;**\n",
    "\n",
    "**A[1] ← y.**\n",
    "\n",
    "**b. In general, how can we check with this scheme whether A[i] has been\n",
    "initialized and, if it has been, with which value?**"
   ]
  },
  {
   "cell_type": "code",
   "execution_count": null,
   "metadata": {},
   "outputs": [],
   "source": []
  },
  {
   "cell_type": "markdown",
   "metadata": {},
   "source": [
    "## 7.3/3.\n",
    "**Why is it not a good idea for a hash function to depend on just one letter (say,\n",
    "the first one) of a natural-language word?**"
   ]
  },
  {
   "cell_type": "code",
   "execution_count": null,
   "metadata": {},
   "outputs": [],
   "source": []
  }
 ],
 "metadata": {
  "kernelspec": {
   "display_name": "Python 3",
   "language": "python",
   "name": "python3"
  },
  "language_info": {
   "codemirror_mode": {
    "name": "ipython",
    "version": 3
   },
   "file_extension": ".py",
   "mimetype": "text/x-python",
   "name": "python",
   "nbconvert_exporter": "python",
   "pygments_lexer": "ipython3",
   "version": "3.7.8"
  }
 },
 "nbformat": 4,
 "nbformat_minor": 2
}
