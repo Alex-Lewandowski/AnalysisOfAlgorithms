{
 "cells": [
  {
   "cell_type": "markdown",
   "metadata": {},
   "source": [
    "## CS411 Homework 4\n",
    "Alex Lewandowski\n",
    "\n",
    "10/31/20"
   ]
  },
  {
   "cell_type": "markdown",
   "metadata": {},
   "source": [
    "## 3.2/8) \n",
    "\n",
    "**Consider the problem of counting, in a given text, the number of substrings that start with an A and end with a B . For example, there are four such substrings in CABAAXBYA .**\n",
    "\n",
    "**a. Design a brute-force algorithm for this problem and determine its efficiency class.**"
   ]
  },
  {
   "cell_type": "markdown",
   "metadata": {},
   "source": [
    "* Initialize count = 0\n",
    "* Iterate over the input string\n",
    "    * If an 'A' is encountered, iterate over the remaining substring\n",
    "        * If a 'B' is encountered, increment the count\n",
    "* return the count"
   ]
  },
  {
   "cell_type": "code",
   "execution_count": null,
   "metadata": {},
   "outputs": [],
   "source": [
    "def count_AB_substrings_brute_1(s: str) -> int:\n",
    "    count = 0\n",
    "    for i, char_1 in enumerate(s):\n",
    "        if char_1 == 'A':\n",
    "            for char_2 in s[i+1:]:\n",
    "                if char_2 == 'B':\n",
    "                    count += 1\n",
    "    return count"
   ]
  },
  {
   "cell_type": "code",
   "execution_count": null,
   "metadata": {
    "scrolled": true
   },
   "outputs": [],
   "source": [
    "text = [\"CABAAXBYA\", \"\", \"AAAAAA\", \"BBBBB\", \"ABABAB\", \"ABABABABABAXXAXXXXXAXXXXXXAXX\"]\n",
    "\n",
    "for word in text:\n",
    "    print(count_AB_substrings_brute_1(word))"
   ]
  },
  {
   "cell_type": "markdown",
   "metadata": {},
   "source": [
    "**b. Design a more efficient algorithm for this problem. [Gin04]**"
   ]
  },
  {
   "cell_type": "markdown",
   "metadata": {},
   "source": [
    "A still brute force yet more efficient solution is to stop checking substrings when it is no longer possible to find the pattern (i.e when there are no more \"B\"s in the remaining substrings). This will save time on strings that look like \"ABABABAXXAXXXXXAXXX...XXXAXX,\" where the substring indicated by the ellipses contains many \"A\"s and no \"B\"s.\n",
    "\n",
    "* Initialize count = 0\n",
    "* Intialize b_count = 0\n",
    "* Iterate over the input string\n",
    "    * If an 'A' is encountered, iterate over the remaining substring\n",
    "        * If a 'B' is encountered, increment count and b_count\n",
    "    * If b_count == 0, return count \n",
    "    * else b_count = 0\n",
    "* return the count"
   ]
  },
  {
   "cell_type": "code",
   "execution_count": null,
   "metadata": {},
   "outputs": [],
   "source": [
    "def count_AB_substrings_brute_2(s: str) -> int:\n",
    "    count = 0\n",
    "    b_count = 0\n",
    "    for i, char_1 in enumerate(s):\n",
    "        if char_1 == 'A':\n",
    "            for char_2 in s[i+1:]:\n",
    "                if char_2 == 'B':\n",
    "                    count += 1\n",
    "                    b_count += 1\n",
    "            if b_count == 0:\n",
    "                return count\n",
    "        b_count = 0\n",
    "    return count"
   ]
  },
  {
   "cell_type": "code",
   "execution_count": null,
   "metadata": {},
   "outputs": [],
   "source": [
    "text = [\"CABAAXBYA\", \"\", \"AAAAAA\", \"BBBBB\", \"ABABAB\", \"ABABABABABAXXAXXXXXAXXXXXXAXX\"]\n",
    "\n",
    "for word in text:\n",
    "    print(count_AB_substrings_brute_2(word))"
   ]
  },
  {
   "cell_type": "markdown",
   "metadata": {},
   "source": [
    "## 4.5/13) \n",
    "**You need to search for a given number in an n × n matrix in which every row and every column is sorted in increasing order. Can you design a O(n) algorithm for this problem? [Laa10]**"
   ]
  },
  {
   "cell_type": "markdown",
   "metadata": {},
   "source": [
    "* Iterate over n\n",
    "    * If matrix\\[i\\]\\[0\\] <= value <= matrix\\[i\\]\\[n-1\\]\n",
    "        * Iterate over row i\n",
    "            * If matrix\\[i\\]\\[j\\] == value\n",
    "                * return \\[i, j\\]\n",
    "* return \\[\\]"
   ]
  },
  {
   "cell_type": "code",
   "execution_count": null,
   "metadata": {},
   "outputs": [],
   "source": [
    "import numpy as np\n",
    "\n",
    "def find_num(matrix : np.ndarray, val : int) -> list:\n",
    "    n = len(matrix)\n",
    "    for i in range(0, n):\n",
    "        if val >= matrix[i][0] and val <= matrix[i][n-1]:\n",
    "            for j, num in enumerate(matrix[i]):\n",
    "                if num == val:\n",
    "                    return [i, j]\n",
    "    return list()"
   ]
  },
  {
   "cell_type": "code",
   "execution_count": null,
   "metadata": {},
   "outputs": [],
   "source": [
    "for i in range(0, 1000):\n",
    "    fail_count = 0\n",
    "    n = np.random.randint(3, 100)\n",
    "    x = np.random.choice(10000, n**2, replace=False)\n",
    "    x.sort()\n",
    "    x = np.reshape(x, (n, n))\n",
    "    row = np.random.randint(n-1)\n",
    "    col = np.random.randint(n-1)\n",
    "    indices = find_num(x, x[row][col])\n",
    "    if x[row][col] != x[indices[0], indices[1]]:\n",
    "        print(\"FAILED\")\n",
    "        print(f'{x}')\n",
    "        print(f\"[row][col]: [{row}][{col}]\")\n",
    "        print(f\"indices: {indices}\")\n",
    "        fail_count += 1\n",
    "if fail_count == 0:\n",
    "    print(\"ALL TESTS PASSED\")\n",
    "else: \n",
    "    print(f\"{fail_count} TESTS FAILED\")"
   ]
  },
  {
   "cell_type": "markdown",
   "metadata": {},
   "source": [
    "## 5.1/5)\n",
    "**Find the order of growth for solutions of the following recurrences.**\n",
    "\n",
    "**a. T (n) = 4T (n/2) + n, T (1) = 1**\n"
   ]
  },
  {
   "cell_type": "markdown",
   "metadata": {},
   "source": [
    "a = 4\n",
    "\n",
    "b = 2\n",
    "\n",
    "d = 1\n",
    "\n",
    "a > b<sup>d</sup>\n",
    "\n",
    "4 > 2<sup>1</sup>\n",
    "\n",
    "T(n)~θn<sup>log<sub>2</sub>4</sup>"
   ]
  },
  {
   "cell_type": "markdown",
   "metadata": {},
   "source": [
    "**b. T (n) = 4T (n/2) + n<sup>2</sup> , T (1) = 1**"
   ]
  },
  {
   "cell_type": "markdown",
   "metadata": {},
   "source": [
    "a = 4\n",
    "\n",
    "b = 2\n",
    "\n",
    "d = 2\n",
    "\n",
    "a = b<sup>d</sup>\n",
    "\n",
    "4 = 2<sup>2</sup>\n",
    "\n",
    "T(n)~θn<sup>2</sup>log<sub>2</sub>n"
   ]
  },
  {
   "cell_type": "markdown",
   "metadata": {},
   "source": [
    "**c. T (n) = 4T (n/2) + n<sup>3</sup> , T (1) = 1**"
   ]
  },
  {
   "cell_type": "markdown",
   "metadata": {},
   "source": [
    "a = 4\n",
    "\n",
    "b = 2\n",
    "\n",
    "d = 3\n",
    "\n",
    "a < b<sup>d</sup>\n",
    "\n",
    "4 < 2<sup>3</sup>\n",
    "\n",
    "T(n)~θn<sup>3</sup>"
   ]
  },
  {
   "cell_type": "markdown",
   "metadata": {},
   "source": [
    "## 5.1/11\n",
    "\n",
    "### OMG I did a problem from the wrong section. I had fun coding Trominos and I'm leaving it in because it makes me sad to delete it. 5.2/11 follows.\n",
    "\n",
    "*Tromino puzzle* **A tromino (more accurately, a right tromino) is an L-shaped\n",
    "tile formed by three 1 × 1 squares. The problem is to cover any 2<sup>n</sup> × 2<sup>n</sup> chessboard with a missing square with trominoes. Trominoes can be oriented in an arbitrary way, but they should cover all the squares of the board except the missing one exactly and with no overlaps. [Gol94]**\n",
    "\n",
    "**Design a divide-and-conquer algorithm for this problem.**"
   ]
  },
  {
   "cell_type": "markdown",
   "metadata": {},
   "source": [
    "A Tromino board can be described with an n value to determine its size, and a set of x, y values representing the location of the missing square.\n",
    "\n",
    "A tromino can be represented with a set of 3 points on the x, y plane.\n",
    "\n",
    "* call the tiling function on the empty tromino board\n",
    "* if the n = 1\n",
    "    * place a tromino in the only possible location\n",
    "    * return\n",
    "* divide the board into quartiles\n",
    "* mark the 4 adjoining corner squares at the center of the current board as missing\n",
    "* determine which quartile contains the passed in missing square\n",
    "* unmark that quartile's corner square and mark the correct missing square\n",
    "* recursively call the tiling function on each quartile\n",
    "* place a tromino in the L-shaped spot created by the 3 quartiles with adjoining missing tiles"
   ]
  },
  {
   "cell_type": "code",
   "execution_count": null,
   "metadata": {},
   "outputs": [],
   "source": [
    "import numpy as np\n",
    "\n",
    "class Square:\n",
    "    def __init__(self, row: int, col: int):\n",
    "        self.row = row\n",
    "        self.col = col\n",
    "        \n",
    "    def __eq__(self, other): \n",
    "        if not isinstance(other, Square):\n",
    "            return NotImplemented\n",
    "        return self.row == other.row and self.col == other.col\n",
    "\n",
    "class Tromino:\n",
    "    def __init__(self, sq_1=Square(-1, -1), sq_2=Square(-1, -1), sq_3=Square(-1, -1)):\n",
    "        self.sq_1 = sq_1\n",
    "        self.sq_2 = sq_2\n",
    "        self.sq_3 = sq_3\n",
    "    \n",
    "class TrominoBoard:\n",
    "    def __init__(self, n: int, missing_sq: Square):\n",
    "        self.trominos = list()\n",
    "        self.n = n\n",
    "        self.missing_sq = missing_sq\n",
    "        self.used_squares = np.zeros((2**n, 2**n), dtype=bool)\n",
    "        self.used_squares[self.missing_sq.row][self.missing_sq.col] = True\n",
    "        \n",
    "    def id_partial_quartile(self, llc, urc, missing_sq):\n",
    "        q_width = (urc.col - llc.col + 1)//2\n",
    "        quartile = \"\"\n",
    "        if missing_sq.row <= llc.row - q_width:\n",
    "            quartile = \"u\"\n",
    "        else:\n",
    "            quartile = \"l\"\n",
    "        if missing_sq.col <= urc.col - q_width:\n",
    "            quartile = f\"{quartile}lq\"\n",
    "        else:\n",
    "            quartile = f\"{quartile}rq\"\n",
    "        return quartile\n",
    "    \n",
    "    def divide_quartiles(self, llc, urc):\n",
    "        q_width = (urc.col - llc.col + 1)//2\n",
    "        return {\"ulq\": {'llc': Square(llc.row - q_width, llc.col),\n",
    "                        'urc': Square(urc.row, urc.col - q_width), \n",
    "                        \"missing\": Square(llc.row - q_width, urc.col - q_width)},\n",
    "                \"urq\": {'llc': Square(llc.row - q_width, llc.col + q_width), \n",
    "                        'urc': Square(urc.row, urc.col), \n",
    "                        \"missing\": Square(llc.row - q_width, llc.col + q_width)},\n",
    "                \"llq\": {'llc': Square(llc.row, llc.col), \n",
    "                        'urc': Square(urc.row + q_width, urc.col - q_width), \n",
    "                        \"missing\": Square(urc.row + q_width, urc.col - q_width)},\n",
    "                \"lrq\": {'llc': Square(llc.row, llc.col + q_width), \n",
    "                        'urc': Square(urc.row + q_width, urc.col), \n",
    "                        \"missing\": Square(urc.row + q_width, llc.col + q_width)}}\n",
    "    \n",
    "    def place_tromino(self, tromino):\n",
    "        self.used_squares[tromino.sq_1.row][tromino.sq_1.col] = True\n",
    "        self.used_squares[tromino.sq_2.row][tromino.sq_2.col] = True\n",
    "        self.used_squares[tromino.sq_3.row][tromino.sq_3.col] = True\n",
    "        self.trominos.append(tromino)          \n",
    "    \n",
    "    def tile_board(self, llc=None, urc=None, missing_sq=None):\n",
    "        if not (missing_sq or llc or urc):\n",
    "            print(\"Entered with initial empty Tromino board\")\n",
    "            missing_sq = self.missing_sq\n",
    "            llc = Square((2**self.n)-1, 0)\n",
    "            urc = Square(0, (2**self.n)-1)\n",
    "        else:\n",
    "            print(f\"recursive call on sub-board having lower-left-corner: ({llc.row}, {llc.col}) and upper-right-corner: ({urc.row}, {urc.col})\")\n",
    "        n = int(np.log2(urc.col - llc.col + 1))\n",
    "        # base case\n",
    "        if n == 1:\n",
    "            squares = [Square(llc.row, llc.col),\n",
    "                      Square(llc.row, urc.col),\n",
    "                      Square(urc.row, llc.col),\n",
    "                      Square(urc.row, urc.col)]\n",
    "            squares.remove(missing_sq)\n",
    "            tromino = Tromino(squares[0], squares[1], squares[2])\n",
    "            self.place_tromino(tromino)\n",
    "            return\n",
    "        quartiles = self.divide_quartiles(llc, urc)\n",
    "        incomplete_quartile = self.id_partial_quartile(llc, urc, missing_sq)\n",
    "        quartiles[incomplete_quartile]['missing'] = missing_sq\n",
    "\n",
    "        # recursive calls\n",
    "        self.tile_board(quartiles['ulq']['llc'], \n",
    "                        quartiles['ulq']['urc'], \n",
    "                        quartiles['ulq']['missing'])\n",
    "        \n",
    "        self.tile_board(quartiles['urq']['llc'], \n",
    "                        quartiles['urq']['urc'], \n",
    "                        quartiles['urq']['missing'])\n",
    "\n",
    "        self.tile_board(quartiles['llq']['llc'], \n",
    "                        quartiles['llq']['urc'], \n",
    "                        quartiles['llq']['missing'])\n",
    "        \n",
    "        self.tile_board(quartiles['lrq']['llc'], \n",
    "                        quartiles['lrq']['urc'], \n",
    "                        quartiles['lrq']['missing'])\n",
    "        \n",
    "        squares = list()\n",
    "        quartiles.pop(incomplete_quartile)\n",
    "        for q in quartiles:\n",
    "            squares.append(quartiles[q]['missing'])\n",
    "        # place remaining tromino\n",
    "        self.place_tromino(Tromino(squares[0], squares[1], squares[2]))\n"
   ]
  },
  {
   "cell_type": "code",
   "execution_count": null,
   "metadata": {
    "scrolled": false
   },
   "outputs": [],
   "source": [
    "missing = Square(5, 5)\n",
    "board = TrominoBoard(3, missing)\n",
    "\n",
    "print(\"\\nEmpty Board (True == occupied square):\")\n",
    "print(f\"{board.used_squares}\\n\")\n",
    "\n",
    "board.tile_board()\n",
    "\n",
    "print(\"\\nPLACED TROMINOS:\")\n",
    "for i, t in enumerate(board.trominos):\n",
    "    print(f\" Tromino {i}: sq_1: ({t.sq_1.row}, {t.sq_1.col}), sq_2: ({t.sq_2.row}, {t.sq_2.col}), sq_3: ({t.sq_3.row}, {t.sq_3.col})\")\n",
    "\n",
    "print(\"\\nAfter Tiling (True == occupied square):\")\n",
    "print(board.used_squares)"
   ]
  },
  {
   "cell_type": "markdown",
   "metadata": {},
   "source": [
    "## 5.2/11\n",
    "**Nuts and bolts You are given a collection of n bolts of different widths and\n",
    "n corresponding nuts. You are allowed to try a nut and bolt together, from\n",
    "which you can determine whether the nut is larger than the bolt, smaller than\n",
    "the bolt, or matches the bolt exactly. However, there is no way to compare\n",
    "two nuts together or two bolts together. The problem is to match each bolt\n",
    "to its nut. Design an algorithm for this problem with average-case efficiency\n",
    "in θ(nlogn). [Raw91**"
   ]
  },
  {
   "cell_type": "markdown",
   "metadata": {},
   "source": [
    "![A walkthrough of the quicksort algorithm applied to 2 arrays](quicksort_2_arrays.jpg)\n",
    "\n",
    "This can be solved with quicksort, which has average-case efficiency in θ(nlogn). \n",
    "\n",
    "* Select nuts or bolts as an array of pivots and the other as a sorting array\n",
    "* Add a pivot to the end of the sorting array\n",
    "* iterate over sorting array\n",
    "    * values < pivot stay where they are\n",
    "    * values > pivot move to end of array\n",
    "* repeat until all pivots have been used\n",
    "* each nut will sit next to its cooresponding bolt in the sorted array"
   ]
  },
  {
   "cell_type": "markdown",
   "metadata": {},
   "source": [
    "## 5.3/5.\n",
    "**In each part, give a list of the values in the order they will be visited.**\n",
    "\n",
    "**Traverse the following binary tree**\n",
    "\n",
    "![](5_3_5.png)"
   ]
  },
  {
   "cell_type": "markdown",
   "metadata": {},
   "source": [
    "**a. in preorder.**\n",
    "\n",
    "a, b, d, e, c, f\n",
    "\n",
    "**b. in inorder.**\n",
    "\n",
    "d, b, e, a, c, f\n",
    "\n",
    "**c. in postorder.**\n",
    "\n",
    "d, e, b, f, c, a"
   ]
  },
  {
   "cell_type": "markdown",
   "metadata": {},
   "source": [
    "## 6.1/8.\n",
    "**You have a list of n open intervals (a<sub>1</sub> , b<sub>1</sub> ), (a<sub>2</sub> , b<sub>2</sub> ), . . . , (a<sub>n</sub> , b<sub>n</sub> ) on the real line.\n",
    "(An open interval (a, b) comprises all the points strictly between its endpoints\n",
    "a and b, i.e., (a, b) = {x| a < x < b}.) Find the maximum number of these\n",
    "intervals that have a common point. For example, for the intervals (1, 4),\n",
    "(0, 3), (−1.5, 2), (3.6, 5), this maximum number is 3. Design an algorithm\n",
    "for this problem with a better than quadratic time efficiency.**"
   ]
  },
  {
   "cell_type": "markdown",
   "metadata": {},
   "source": [
    "* create a (2n, 2) matrix of [points, bools] (bools indicate left or right endpoint)\n",
    "* Sort matrix on endpoint values (use heapsort: O(logn))\n",
    "* initialize current and max counts = 0\n",
    "* iterate through the list of endpoints (O(n))\n",
    "    * if element is a left enfpoint, current++\n",
    "    * else, current--\n",
    "    * if max < current, max = current\n",
    "* return max\n",
    "\n",
    "n * logn ~ O(nlogn)"
   ]
  },
  {
   "cell_type": "code",
   "execution_count": null,
   "metadata": {},
   "outputs": [],
   "source": [
    "import numpy as np\n",
    "\n",
    "def max_common_point(x: np.ndarray) -> int:\n",
    "    x = np.stack(x, axis=1)\n",
    "    a = np.stack([x[0], np.zeros(len(x[0]), dtype=bool)], axis=1)\n",
    "    b = np.stack([x[1], np.ones(len(x[1]), dtype=bool)], axis=1)\n",
    "    x = np.concatenate([a, b])\n",
    "    x = x[x[:,0].argsort(kind='heapsort')]\n",
    "    print(\"Sorted List of Endpoints:\")\n",
    "    print(\"(0 = left, 1 = right)\")\n",
    "    print(f\"{x}\\n\")\n",
    "    cur = 0\n",
    "    mx = 0\n",
    "    for pt in x:\n",
    "        if not pt[1]:\n",
    "            cur += 1\n",
    "        else:\n",
    "            cur -= 1\n",
    "        if mx < cur:\n",
    "            mx = cur\n",
    "    return mx"
   ]
  },
  {
   "cell_type": "code",
   "execution_count": null,
   "metadata": {},
   "outputs": [],
   "source": [
    "x = np.array([[1, 4], [0, 3], [-1.5, 2], [3.6, 5]])\n",
    "\n",
    "print(max_common_point(x))"
   ]
  },
  {
   "cell_type": "markdown",
   "metadata": {},
   "source": [
    "## 6.6/6.\n",
    "**Consider the problem of finding, for a given positive integer n, the pair of integers whose sum is n and whose product is as large as possible. Design an efficient algorithm for this problem and indicate its efficiency class.**"
   ]
  },
  {
   "cell_type": "markdown",
   "metadata": {},
   "source": [
    "The maximum product for *a* and *b* values that sum to n will be achieved by having the highest possible values for *a* and *b*.\n",
    "\n",
    "* Do integer division of n by 2 (giving *a*)\n",
    "* b = n - a\n",
    "* return a and b\n",
    "\n",
    "O(1)"
   ]
  },
  {
   "cell_type": "code",
   "execution_count": null,
   "metadata": {},
   "outputs": [],
   "source": [
    "def get_max_a_b(n: int) -> list:\n",
    "    if n > 1:\n",
    "        a = n // 2\n",
    "        return [a, n-a]\n",
    "    return None"
   ]
  },
  {
   "cell_type": "code",
   "execution_count": null,
   "metadata": {},
   "outputs": [],
   "source": [
    "print(get_max_a_b(15))\n",
    "print(get_max_a_b(8))"
   ]
  },
  {
   "cell_type": "markdown",
   "metadata": {},
   "source": [
    "## 7.1/6.\n",
    "**The ancestry problem asks to determine whether a vertex u is an ancestor\n",
    "of vertex v in a given binary (or, more generally, rooted ordered) tree of n\n",
    "vertices. Design a O(n) input-enhancement algorithm that provides sufficient\n",
    "information to solve this problem for any pair of the tree’s vertices in constant\n",
    "time.**"
   ]
  },
  {
   "cell_type": "markdown",
   "metadata": {},
   "source": [
    "![](postorder_traversal_diagram.jpg)\n",
    "\n",
    "\n",
    "* Perform a postorder traversal of the tree, strarting from vertex u, searching for vertex v\n",
    "* If vertex v is found before vertex u, vertex u is an ancestor of vertex v\n",
    "\n",
    "O(n)"
   ]
  },
  {
   "cell_type": "markdown",
   "metadata": {},
   "source": [
    "## 7.1/7.\n",
    "**In part b, describe an algorithm.**\n",
    "\n",
    "**The following technique, known as virtual initialization, provides a time-efficient way to initialize just some elements of a given array A[0..n − 1] so that for each of its elements, we can say in constant time whether it has been initialized and, if it has been, with which value. This is done by utilizing a variable counter for the number of initialized elements in A and two auxiliary arrays of the same size, say B[0..n − 1] and C[0..n − 1], defined as follows. \n",
    "B[0], . . . , B[counter − 1] contain the indices of the elements of A that were\n",
    "initialized: B[0] contains the index of the element initialized first, B[1] contains\n",
    "the index of the element initialized second, etc. Furthermore, if A[i] was the\n",
    "kth element (0 ≤ k ≤ counter − 1) to be initialized, C[i] contains k.**\n",
    "\n",
    "**a. Sketch the state of arrays A[0..7], B[0..7], and C[0..7] after the three assignments**\n",
    "\n",
    "**A[3] ← x;**\n",
    "\n",
    "**A[7] ← z;**\n",
    "\n",
    "**A[1] ← y.**"
   ]
  },
  {
   "cell_type": "markdown",
   "metadata": {},
   "source": [
    "A = [  , y,  , x,  ,  ,  , z]\n",
    "B = [ 3, 7, 1,  ,  ,  ,  ,  ]\n",
    "C = [  , 2,  , 0,  ,  ,  , 1]"
   ]
  },
  {
   "cell_type": "markdown",
   "metadata": {},
   "source": [
    "**b. In general, how can we check with this scheme whether A[i] has been\n",
    "initialized and, if it has been, with which value?**"
   ]
  },
  {
   "cell_type": "markdown",
   "metadata": {},
   "source": [
    "counter = 3\n",
    "\n",
    "B[C[3]] = 3 \n",
    "\n",
    "A[3] = x\n",
    "\n",
    "B[C[7]] = 7    \n",
    "\n",
    "A[7] = z\n",
    "\n",
    "B[C[1]] = 1      \n",
    "\n",
    "A[1] = y\n",
    "    \n",
    "If B[C[i]] = i, A[i] has been initialized.\n",
    "\n",
    "If A[i] is initialized, it holds the intialized value.\n",
    "\n",
    "I'm not sure I understand the point of the counter. You could use it to make sure a new value hadn't been assigned to a previously initialized location.  "
   ]
  },
  {
   "cell_type": "markdown",
   "metadata": {},
   "source": [
    "## 7.3/3.\n",
    "**Why is it not a good idea for a hash function to depend on just one letter (say,\n",
    "the first one) of a natural-language word?**"
   ]
  },
  {
   "cell_type": "markdown",
   "metadata": {},
   "source": [
    "If a hash function depends on a single letter, you will end up with many collisions, resulting in clustering in the hash table."
   ]
  }
 ],
 "metadata": {
  "kernelspec": {
   "display_name": "Python 3",
   "language": "python",
   "name": "python3"
  },
  "language_info": {
   "codemirror_mode": {
    "name": "ipython",
    "version": 3
   },
   "file_extension": ".py",
   "mimetype": "text/x-python",
   "name": "python",
   "nbconvert_exporter": "python",
   "pygments_lexer": "ipython3",
   "version": "3.6.9"
  }
 },
 "nbformat": 4,
 "nbformat_minor": 2
}
